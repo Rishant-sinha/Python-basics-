{
  "nbformat": 4,
  "nbformat_minor": 0,
  "metadata": {
    "colab": {
      "provenance": []
    },
    "kernelspec": {
      "name": "python3",
      "display_name": "Python 3"
    },
    "language_info": {
      "name": "python"
    }
  },
  "cells": [
    {
      "cell_type": "markdown",
      "source": [
        "1.what is Python,and why is it popular?\n",
        "\n",
        "  - Python is a high-level, interpreted programming language known for its simplicity and readability. It is popular because it has a clean and easy-to-learn syntax, making it ideal for beginners. Python is versatile and widely used in web development, data science, automation, and machine learning. Its extensive libraries and frameworks accelerate development. The language has strong community support and extensive documentation. Python is platform-independent and can run on multiple operating systems. It is especially favored in fields like artificial intelligence and data analysis. Python is open-source, promoting collaboration and innovation.\n",
        "\n",
        "  "
      ],
      "metadata": {
        "id": "ISc0akmsZX_G"
      }
    },
    {
      "cell_type": "markdown",
      "source": [
        "2.What is an interpreter in python?\n",
        "- An interpreter in Python is a program that reads and executes Python code line by line. Unlike a compiler, which translates the entire code into machine language at once, an interpreter translates each line of code into an intermediate form and executes it immediately. This allows for faster testing and debugging since you can see the results of your code as you write it. The Python interpreter also handles memory management and error detection during runtime."
      ],
      "metadata": {
        "id": "DjgRif03aDjv"
      }
    },
    {
      "cell_type": "markdown",
      "source": [
        "3.What are pre-defined keywords in Python?\n",
        "- Pre-defined keywords in Python are reserved words that have a special meaning and purpose within the language. These keywords are an essential part of the syntax and structure of Python and cannot be used as variable names, function names, or identifiers.\n",
        "Some examples of Python's pre-defined keywords are True,False,Lambda,if,else,break,continue,etc.These keywords define the control structures, data types, and operations in Python. You can access the full list of keywords using the keyword module in Python, like this:\n",
        "\n",
        "import keyword\n",
        "\n",
        "print(keyword.kwlist)"
      ],
      "metadata": {
        "id": "bKiWcv_taN1u"
      }
    },
    {
      "cell_type": "markdown",
      "source": [
        "4.Can keywords be used as variable names?\n",
        "\n",
        "- No, keywords in Python cannot be used as variable names. Keywords are reserved words that have a predefined meaning and specific function within the Python language. They are part of the language's syntax and are essential for its operation.\n",
        "Attempting to use a keyword as a variable name will result in a syntax error."
      ],
      "metadata": {
        "id": "Q7t58XQtaVTl"
      }
    },
    {
      "cell_type": "markdown",
      "source": [
        "5.What is mutability in Python?\n",
        "- In Python, mutability refers to whether an object can be modified after it is created. Mutable objects are those that can be changed in place, such as lists, dictionaries, and sets. Immutable objects cannot be changed once they are created, such as strings, tuples, and integers. This difference affects how objects behave when used in operations and how they are stored in memory. Mutable objects can be updated directly, while modifying an immutable object results in creating a new object.\n"
      ],
      "metadata": {
        "id": "9nB5dgjyadIT"
      }
    },
    {
      "cell_type": "markdown",
      "source": [
        "6.Why are list mutable, but tuples are immutable?\n",
        "- Lists are mutable because they are designed for flexibility, allowing elements to be added, removed, or modified as needed. -Tuples are immutable because they are meant for fixed, unchanging data, ensuring stability and making them hashable for use as dictionary keys or set elements.\n",
        "Lists are ideal for dynamic collections that frequently change, while tuples are best for static collections where data integrity is important.\n",
        "The mutability of lists makes them versatile but less efficient, whereas the immutability of tuples makes them faster and safer for fixed data.\n",
        "This distinction in design helps developers choose the right data structure based on whether the data is expected to change or remain constant."
      ],
      "metadata": {
        "id": "FeHxzInlamJh"
      }
    },
    {
      "cell_type": "markdown",
      "source": [
        "7.What is the difference between \"==\"and \"is\" oprators in Python?\n",
        "- The == operator checks if the values of two objects are equal, meaning it compares their content.\n",
        "The is operator checks if two objects refer to the same memory location, meaning it compares their identity.\n",
        "Even if two objects have the same value (== is True), they can still be different objects in memory (is is False).\n",
        "For example, a == b checks if a and b have the same content, while a is b checks if a and b point to the exact same object.\n",
        "The is operator is commonly used to check if an object is None, such as if x is None."
      ],
      "metadata": {
        "id": "g-ATSE0eauLx"
      }
    },
    {
      "cell_type": "markdown",
      "source": [
        "8.What are logical operators in Python?\n",
        "- Logical operators in Python are used to combine multiple conditions and return a boolean result (True or False).\n",
        "Python has three logical operators:\n",
        "The and operator returns True only if both conditions are true; otherwise, it returns False.\n",
        "The or operator returns True if at least one condition is true; it returns False only if all conditions are false.\n",
        "The not operator negates a condition, returning True if the condition is false, and False if the condition is true.\n",
        "Logical operators are commonly used in conditional statements like if, while, and assert to create complex decision-making logic."
      ],
      "metadata": {
        "id": "qXPkR1mRa0u_"
      }
    },
    {
      "cell_type": "markdown",
      "source": [
        "9.What is type casting in Python?\n",
        "- Type casting in Python is the process of converting one data type into another, either automatically or manually.\n",
        "In implicit type casting, Python automatically converts a smaller data type to a larger one to prevent data loss.\n",
        "In explicit type casting, the programmer uses built-in functions like 'int(), float(), or str()` to manually convert data types.\n",
        "For example, int(\"5\") converts the string \"5\" to the integer 5, while float(10) converts the integer 10 to the float 10.0."
      ],
      "metadata": {
        "id": "4xbDCSl_a61D"
      }
    },
    {
      "cell_type": "markdown",
      "source": [
        "10.What is the difference between implicit and explicit type casting?\n",
        "- Implicit type casting is done automatically by Python, where the interpreter converts smaller data types to larger ones to prevent data loss during operations.\n",
        "For instance, when adding an integer and a float, Python implicitly converts the integer to a float to ensure the result is a float.\n",
        "This process doesn't require any input or action from the programmer and happens seamlessly during execution.\n",
        "Explicit type casting, on the other hand, requires the programmer to manually convert one data type to another using built-in functions like int(), float(), or str().\n",
        "For example, to convert a string \"123\" into an integer, the programmer would explicitly use int(\"123\").\n",
        "The main advantage of explicit casting is that it provides more control, allowing the programmer to specify exactly how the conversion should be done.\n",
        "Implicit casting is typically used when data types are compatible and no data will be lost, while explicit casting is used for cases where the programmer needs to ensure a specific data transformation.\n",
        "Implicit casting is common in arithmetic operations, whereas explicit casting is often used in scenarios where values need to be handled as a specific type, like converting user input (usually a string) to an integer."
      ],
      "metadata": {
        "id": "Wp45ClyFbAKY"
      }
    },
    {
      "cell_type": "markdown",
      "source": [
        "11.What is the purpose of conditional statements in Python?\n",
        "- The purpose of conditional statements in Python is to allow the program to make decisions based on whether a certain condition is true or false.\n",
        "They enable the program to execute specific blocks of code only when certain conditions are met, making the program more dynamic.\n",
        "Conditional statements help in controlling the flow of execution, allowing for different outcomes based on varying input or situations.\n",
        "The most common conditional statements in Python are if, elif, and else, which allow for multiple possible paths of execution.\n",
        "For example, an if statement checks if a condition is true, and if it is, it executes the associated block of code; otherwise, it moves to the next condition or to the else block.\n",
        "Conditional statements are widely used in tasks such as decision-making, validating inputs, and handling errors.\n",
        "They help create more readable, logical, and flexible programs by controlling which actions should be taken based on specific circumstances."
      ],
      "metadata": {
        "id": "C812lOSobLdt"
      }
    },
    {
      "cell_type": "markdown",
      "source": [
        "12.How does the elif statement work?\n",
        "\n",
        "- The elif (short for \"else if\") statement in Python is used to check multiple conditions sequentially, providing an alternative block of code to execute if the preceding if condition is false. It follows the if statement and is used when you want to check additional conditions after the initial if condition. =>How it works -The program first checks the condition in the if statement.\n",
        "If the if condition is True, the associated block of code executes, and the remaining conditions (including any elif or else) are skipped.\n",
        "If the if condition is False, Python moves to the next elif condition, if present, and checks whether it is True.\n",
        "If one of the elif conditions is True, its corresponding block of code is executed.\n",
        "If none of the if or elif conditions are true, the else block is executed (if present).\n",
        "x = 15\n",
        "\n",
        "if x < 10:\n",
        "\n",
        "print(\"x is less than 10\")\n",
        "\n",
        "elif x == 15:\n",
        "\n",
        "print(\"x is equal to 15\")\n",
        "\n",
        "else:\n",
        "\n",
        "print(\"x is greater than 10\")'''\n",
        "\n",
        "- Python first checks if x < 10. Since this is False, it moves to the elif statement.\n",
        "- Then, it checks if x == 15. This is True, so it prints \"x is equal to 15\".\n",
        "- If the elif condition was also False, the else block would have been executed."
      ],
      "metadata": {
        "id": "SJ5OHNQcbTE4"
      }
    },
    {
      "cell_type": "markdown",
      "source": [
        "13.What is the difference between for and while loops?\n",
        "\n",
        "- The for loop is used when you know the number of iterations in advance or need to iterate over a sequence, like a list or range.\n",
        "It automatically stops when it reaches the end of the sequence or collection being iterated over.\n",
        "Using a for loop to print numbers from 0 to 4\n",
        "\n",
        "''''for i in range(5):\n",
        "\n",
        "print(i)'''\n",
        "\n",
        "-The for loop iterates over a sequence generated by range(5) (which gives 0, 1, 2, 3, 4) and prints each value.\n",
        "\n",
        "The while loop is used when you want to continue looping as long as a specific condition remains true, without knowing how many iterations are needed.\n",
        "It keeps running until the condition becomes False, allowing for indefinite repetition as long as the condition holds.\n",
        "Using a while loop to print numbers from 0 to 4\n",
        "\n",
        "count = 0\n",
        "\n",
        "while count < 5:\n",
        "\n",
        "print(count)\n",
        "\n",
        "count += 1\n",
        "\n",
        "The while loop continues running as long as count is less than 5. On each iteration, the value of count is printed, and it is incremented by 1. The loop stops when count reaches 5.\n",
        "A for loop is ideal for situations where the number of iterations is fixed or determined by the sequence being processed. - A while loop is better when the number of iterations depends on an external condition or is not known beforehand. - The for loop iterates over a sequence, while the while loop evaluates a condition before each iteration to decide whether to continue."
      ],
      "metadata": {
        "id": "0QxgbbEXbemV"
      }
    },
    {
      "cell_type": "markdown",
      "source": [
        "14.Describe a scenario where a while loop is more suitable than a for loop.\n",
        "\n",
        "- A while loop is more suitable than a for loop in scenarios where the number of iterations is not known in advance, and the loop needs to continue running until a certain condition is met.\n",
        "Scenario: Waiting for User Input\n",
        "Imagine a program that asks a user to enter a valid password. The loop should continue prompting the user until they provide the correct password. Since the number of attempts is not predetermined, a while loop would be the best choice.\n",
        "\n",
        "Example\n",
        "correct_password = \"secret123\"\n",
        "\n",
        "user_input = \"\"\n",
        "\n",
        "while user_input != correct_password:\n",
        "\n",
        "user_input = input(\"Please enter the password: \")\n",
        "\n",
        "if user_input != correct_password:\n",
        "\n",
        "print(\"Incorrect password. Try again.\")\n",
        "print(\"Access granted!\")\n",
        "\n",
        "The program keeps asking the user to enter the password as long as the entered password is incorrect.\n",
        "The number of attempts is not known ahead of time, and the loop continues until the condition user_input != correct_password becomes False.\n",
        "In this case, a while loop is ideal because the loop runs based on an ongoing condition (correct password), not a fixed sequence or range of values."
      ],
      "metadata": {
        "id": "jT9K7dH7bl6a"
      }
    },
    {
      "cell_type": "markdown",
      "source": [],
      "metadata": {
        "id": "_6WsWsq3cAjO"
      }
    },
    {
      "cell_type": "code",
      "source": [
        "# 1.Write a Python program to print \"Hello, World!\"\n",
        "print(\"Hello, World!\")"
      ],
      "metadata": {
        "colab": {
          "base_uri": "https://localhost:8080/"
        },
        "id": "maDuWBDncYpf",
        "outputId": "4273622f-5c89-4b7d-8364-72591f105731"
      },
      "execution_count": 1,
      "outputs": [
        {
          "output_type": "stream",
          "name": "stdout",
          "text": [
            "Hello, World!\n"
          ]
        }
      ]
    },
    {
      "cell_type": "code",
      "source": [
        "# 2. Write a Python program that displays your name and age.\n",
        "name= \"Musharraf Reza\"\n",
        "age=23\n",
        "print(\"My name is\",name)\n",
        "print(\"I am\",age,\"years old\")"
      ],
      "metadata": {
        "colab": {
          "base_uri": "https://localhost:8080/"
        },
        "id": "IYahf-BbcmO6",
        "outputId": "f03bc9be-afbb-40f2-a8eb-5c5e637fc187"
      },
      "execution_count": 2,
      "outputs": [
        {
          "output_type": "stream",
          "name": "stdout",
          "text": [
            "My name is Musharraf Reza\n",
            "I am 23 years old\n"
          ]
        }
      ]
    },
    {
      "cell_type": "code",
      "source": [
        "# 3.  Write code to print all the pre-defined keywords in Python using the keyword library\n",
        "import keyword\n",
        "keywords = keyword.kwlist\n",
        "print(\"Python Keywords:\")\n",
        "for kw in keywords:\n",
        "    print(kw)"
      ],
      "metadata": {
        "colab": {
          "base_uri": "https://localhost:8080/"
        },
        "id": "MdiHsinzcsIg",
        "outputId": "a60811e2-7dcd-4422-b773-46564561262a"
      },
      "execution_count": 3,
      "outputs": [
        {
          "output_type": "stream",
          "name": "stdout",
          "text": [
            "Python Keywords:\n",
            "False\n",
            "None\n",
            "True\n",
            "and\n",
            "as\n",
            "assert\n",
            "async\n",
            "await\n",
            "break\n",
            "class\n",
            "continue\n",
            "def\n",
            "del\n",
            "elif\n",
            "else\n",
            "except\n",
            "finally\n",
            "for\n",
            "from\n",
            "global\n",
            "if\n",
            "import\n",
            "in\n",
            "is\n",
            "lambda\n",
            "nonlocal\n",
            "not\n",
            "or\n",
            "pass\n",
            "raise\n",
            "return\n",
            "try\n",
            "while\n",
            "with\n",
            "yield\n"
          ]
        }
      ]
    },
    {
      "cell_type": "code",
      "source": [
        "# 4.  Write a program that checks if a given word is a Python keyword.\n",
        "import keyword\n",
        "word = input(\"Enter a word to check if it's a Python keyword: \")\n",
        "if keyword.iskeyword(word):\n",
        "    print(f\"'{word}' is a Python keyword.\")\n",
        "else:\n",
        "    print(f\"'{word}' is not a Python keyword.\")"
      ],
      "metadata": {
        "colab": {
          "base_uri": "https://localhost:8080/"
        },
        "id": "wBGRVq9Tc0O5",
        "outputId": "ae9ff91c-3484-4d0c-b120-19b5dc34941a"
      },
      "execution_count": 4,
      "outputs": [
        {
          "output_type": "stream",
          "name": "stdout",
          "text": [
            "Enter a word to check if it's a Python keyword: elif\n",
            "'elif' is a Python keyword.\n"
          ]
        }
      ]
    },
    {
      "cell_type": "code",
      "source": [
        "#5. Create a list and tuple in Python, and demonstrate how attempting to change an element works differently\n",
        "#for each.\n",
        "\n",
        "my_list = [1, 2, 3]\n",
        "my_tuple = (4, 5, 6)\n",
        "print(\"Original list:\", my_list)\n",
        "my_list[1] = 42\n",
        "print(\"Modified list:\", my_list)\n",
        "print(\"\\nOriginal tuple:\", my_tuple)\n",
        "try:\n",
        "    my_tuple[1] = 42\n",
        "except TypeError as e:\n",
        "    print(\"Error when trying to modify tuple:\", e)\n",
        "\n",
        "\n"
      ],
      "metadata": {
        "colab": {
          "base_uri": "https://localhost:8080/"
        },
        "id": "YI1xBsvSdCRu",
        "outputId": "a5ba15ee-8c38-494d-a892-9709ab184ce9"
      },
      "execution_count": 5,
      "outputs": [
        {
          "output_type": "stream",
          "name": "stdout",
          "text": [
            "Original list: [1, 2, 3]\n",
            "Modified list: [1, 42, 3]\n",
            "\n",
            "Original tuple: (4, 5, 6)\n",
            "Error when trying to modify tuple: 'tuple' object does not support item assignment\n"
          ]
        }
      ]
    },
    {
      "cell_type": "code",
      "source": [
        "# 6. Write a function to demonstrate the behavior of mutable and immutable arguments.\n",
        "\n",
        "def demonstrate_mutable_immutable():\n",
        "    def modify_immutable(value):\n",
        "        print(f\"Initial immutable value: {value}\")\n",
        "        value += 10\n",
        "        print(f\"Modified immutable value inside function: {value}\")\n",
        "\n",
        "    def modify_mutable(value):\n",
        "        print(f\"Initial mutable value: {value}\")\n",
        "        value.append(10)  # This modifies the original object\n",
        "        print(f\"Modified mutable value inside function: {value}\")\n",
        "\n",
        "    # immutable example\n",
        "    immutable_arg = 5\n",
        "    print(\"Before function call (immutable):\", immutable_arg)\n",
        "    modify_immutable(immutable_arg)\n",
        "    print(\"After function call (immutable):\", immutable_arg)\n",
        "    print(\"\\n\")\n",
        "\n",
        "    # Mutable example\n",
        "    mutable_arg = [1, 2, 3]\n",
        "    print(\"Before function call (mutable):\", mutable_arg)\n",
        "    modify_mutable(mutable_arg)\n",
        "    print(\"After function call (mutable):\", mutable_arg)\n",
        "\n",
        "demonstrate_mutable_immutable()"
      ],
      "metadata": {
        "colab": {
          "base_uri": "https://localhost:8080/"
        },
        "id": "zfr6jwRDdMoX",
        "outputId": "1467b2b6-60de-4c4b-bc08-0a06b3cde8c5"
      },
      "execution_count": 6,
      "outputs": [
        {
          "output_type": "stream",
          "name": "stdout",
          "text": [
            "Before function call (immutable): 5\n",
            "Initial immutable value: 5\n",
            "Modified immutable value inside function: 15\n",
            "After function call (immutable): 5\n",
            "\n",
            "\n",
            "Before function call (mutable): [1, 2, 3]\n",
            "Initial mutable value: [1, 2, 3]\n",
            "Modified mutable value inside function: [1, 2, 3, 10]\n",
            "After function call (mutable): [1, 2, 3, 10]\n"
          ]
        }
      ]
    },
    {
      "cell_type": "code",
      "source": [
        "# 7.Write a function to demonstrate the behavior of mutable and immutable arguments.\n",
        "# this is same as question no.6"
      ],
      "metadata": {
        "id": "K29g3pAydVQH"
      },
      "execution_count": null,
      "outputs": []
    },
    {
      "cell_type": "code",
      "source": [
        "#8. Write a program to demonstrate the use of logical operators.\n",
        "def demonstrate_logical_operators():\n",
        "\n",
        "    a = True\n",
        "    b = False\n",
        "    x = 10\n",
        "    y = 20\n",
        "\n",
        "    print(\"Logical Operators Demonstration:\\n\")\n",
        "\n",
        "    # Logical AND\n",
        "    print(f\"a: {a}, b: {b}\")\n",
        "    print(\"a AND b:\", a and b)  # True if both are True\n",
        "    print(\"x < 15 AND y > 15:\", (x < 15) and (y > 15))  # Both conditions must be True\n",
        "\n",
        "    print(\"\\n\")\n",
        "\n",
        "    # Logical OR\n",
        "    print(f\"a: {a}, b: {b}\")\n",
        "    print(\"a OR b:\", a or b)  # True if at least one is True\n",
        "    print(\"x > 15 OR y > 15:\", (x > 15) or (y > 15))  # At least one condition must be True\n",
        "\n",
        "    print(\"\\n\")\n",
        "\n",
        "    # Logical NOT\n",
        "    print(f\"a: {a}, b: {b}\")\n",
        "    print(\"NOT a:\", not a)  # Negates the value of a\n",
        "    print(\"NOT b:\", not b)  # Negates the value of b\n",
        "    print(\"NOT (x > 15):\", not (x > 15))  # Negates the condition\n",
        "\n",
        "demonstrate_logical_operators()\n"
      ],
      "metadata": {
        "colab": {
          "base_uri": "https://localhost:8080/"
        },
        "id": "_Fzugsc1djFz",
        "outputId": "b460f07a-2b92-4514-e9e7-dd75a0e97adc"
      },
      "execution_count": 7,
      "outputs": [
        {
          "output_type": "stream",
          "name": "stdout",
          "text": [
            "Logical Operators Demonstration:\n",
            "\n",
            "a: True, b: False\n",
            "a AND b: False\n",
            "x < 15 AND y > 15: True\n",
            "\n",
            "\n",
            "a: True, b: False\n",
            "a OR b: True\n",
            "x > 15 OR y > 15: True\n",
            "\n",
            "\n",
            "a: True, b: False\n",
            "NOT a: False\n",
            "NOT b: True\n",
            "NOT (x > 15): True\n"
          ]
        }
      ]
    },
    {
      "cell_type": "code",
      "source": [
        "# 9.  Write a Python program to convert user input from string to integer, float, and boolean types.\n",
        "\n",
        "def convert_user_input():\n",
        "    user_input = input(\"Enter a value: \")\n",
        "\n",
        "    print(\"\\nOriginal Input (String):\", user_input)\n",
        "\n",
        "    # Convert to integer\n",
        "    try:\n",
        "        int_value = int(user_input)\n",
        "        print(\"As Integer:\", int_value)\n",
        "    except ValueError:\n",
        "        print(\"Cannot convert to Integer.\")\n",
        "\n",
        "    # Convert to float\n",
        "    try:\n",
        "        float_value = float(user_input)\n",
        "        print(\"As Float:\", float_value)\n",
        "    except ValueError:\n",
        "        print(\"Cannot convert to Float.\")\n",
        "    bool_value = user_input.strip().lower() not in [\"\", \"false\", \"0\"]\n",
        "    print(\"As Boolean:\", bool_value)\n",
        "convert_user_input()"
      ],
      "metadata": {
        "colab": {
          "base_uri": "https://localhost:8080/"
        },
        "id": "_Gn_s2pPdp1W",
        "outputId": "5b74b7c5-6c46-40ed-eadf-9e7e0add945a"
      },
      "execution_count": 8,
      "outputs": [
        {
          "output_type": "stream",
          "name": "stdout",
          "text": [
            "Enter a value: 4672\n",
            "\n",
            "Original Input (String): 4672\n",
            "As Integer: 4672\n",
            "As Float: 4672.0\n",
            "As Boolean: True\n"
          ]
        }
      ]
    },
    {
      "cell_type": "code",
      "source": [
        "# 10. Write code to demonstrate type casting with list elements.\n",
        "\n",
        "data = [\"123\", \"45.67\", \"True\", \"False\", \"abc\", \"0\"]\n",
        "\n",
        "print(\"Original List:\", data)\n",
        "for element in data:\n",
        "    print(f\"\\nOriginal Element: {element} (Type: {type(element).__name__})\")\n",
        "\n",
        "    # Cast to Integer\n",
        "    try:\n",
        "        int_value = int(element)\n",
        "        print(f\"  As Integer: {int_value} (Type: {type(int_value).__name__})\")\n",
        "    except ValueError:\n",
        "        print(\"  Cannot convert to Integer.\")\n",
        "\n",
        "    # Cast to Float\n",
        "    try:\n",
        "        float_value = float(element)\n",
        "        print(f\"  As Float: {float_value} (Type: {type(float_value).__name__})\")\n",
        "    except ValueError:\n",
        "        print(\"  Cannot convert to Float.\")\n",
        "    bool_value = element.strip().lower() not in [\"\", \"false\", \"0\"]\n",
        "    print(f\"  As Boolean: {bool_value} (Type: {type(bool_value).__name__})\")\n"
      ],
      "metadata": {
        "colab": {
          "base_uri": "https://localhost:8080/"
        },
        "id": "pr5fJHxPd3Az",
        "outputId": "a028c1dc-1e30-4410-9643-9064fe912a9f"
      },
      "execution_count": 9,
      "outputs": [
        {
          "output_type": "stream",
          "name": "stdout",
          "text": [
            "Original List: ['123', '45.67', 'True', 'False', 'abc', '0']\n",
            "\n",
            "Original Element: 123 (Type: str)\n",
            "  As Integer: 123 (Type: int)\n",
            "  As Float: 123.0 (Type: float)\n",
            "  As Boolean: True (Type: bool)\n",
            "\n",
            "Original Element: 45.67 (Type: str)\n",
            "  Cannot convert to Integer.\n",
            "  As Float: 45.67 (Type: float)\n",
            "  As Boolean: True (Type: bool)\n",
            "\n",
            "Original Element: True (Type: str)\n",
            "  Cannot convert to Integer.\n",
            "  Cannot convert to Float.\n",
            "  As Boolean: True (Type: bool)\n",
            "\n",
            "Original Element: False (Type: str)\n",
            "  Cannot convert to Integer.\n",
            "  Cannot convert to Float.\n",
            "  As Boolean: False (Type: bool)\n",
            "\n",
            "Original Element: abc (Type: str)\n",
            "  Cannot convert to Integer.\n",
            "  Cannot convert to Float.\n",
            "  As Boolean: True (Type: bool)\n",
            "\n",
            "Original Element: 0 (Type: str)\n",
            "  As Integer: 0 (Type: int)\n",
            "  As Float: 0.0 (Type: float)\n",
            "  As Boolean: False (Type: bool)\n"
          ]
        }
      ]
    },
    {
      "cell_type": "code",
      "source": [
        "# 11. Write a program that checks if a number is positive, negative, or zero.\n",
        "\n",
        "number = float(input(\"Enter a number: \"))\n",
        "if number > 0:\n",
        "    print(\"The number is positive.\")\n",
        "elif number < 0:\n",
        "    print(\"The number is negative.\")\n",
        "else:\n",
        "    print(\"The number is zero.\")"
      ],
      "metadata": {
        "colab": {
          "base_uri": "https://localhost:8080/"
        },
        "id": "d9B438Zxd9Hn",
        "outputId": "2ecf075a-6a1c-4783-feb0-e8f394a0449b"
      },
      "execution_count": 10,
      "outputs": [
        {
          "output_type": "stream",
          "name": "stdout",
          "text": [
            "Enter a number: 29\n",
            "The number is positive.\n"
          ]
        }
      ]
    },
    {
      "cell_type": "code",
      "source": [
        "# 12. Write a for loop to print numbers from 1 to 10.\n",
        "for number in range(1,11):\n",
        "  print(number)\n"
      ],
      "metadata": {
        "colab": {
          "base_uri": "https://localhost:8080/"
        },
        "id": "kSbzuUC5eE3H",
        "outputId": "45174457-bc0d-4e3f-f800-4966cf56772d"
      },
      "execution_count": 11,
      "outputs": [
        {
          "output_type": "stream",
          "name": "stdout",
          "text": [
            "1\n",
            "2\n",
            "3\n",
            "4\n",
            "5\n",
            "6\n",
            "7\n",
            "8\n",
            "9\n",
            "10\n"
          ]
        }
      ]
    },
    {
      "cell_type": "code",
      "source": [
        "# 13. Write a Python program to find the sum of all even numbers between 1 and 50.\n",
        "sum_of_even = 0\n",
        "for number in range(1, 51):\n",
        "    if number % 2 == 0:\n",
        "\n",
        "      sum_of_even += number\n",
        "print(\"The sum of even numbers between 1 and 50 is:\", sum_of_even)"
      ],
      "metadata": {
        "colab": {
          "base_uri": "https://localhost:8080/"
        },
        "id": "EXipOKW1eJS7",
        "outputId": "6ce952ae-becb-42f2-cae8-bdd8ae43b7e5"
      },
      "execution_count": 12,
      "outputs": [
        {
          "output_type": "stream",
          "name": "stdout",
          "text": [
            "The sum of even numbers between 1 and 50 is: 650\n"
          ]
        }
      ]
    },
    {
      "cell_type": "code",
      "source": [
        "# 14. Write a program to reverse a string using a while loop.\n",
        "\n",
        "original_string = input(\"Enter a string: \")\n",
        "reversed_string = \"\"\n",
        "index = len(original_string) - 1\n",
        "while index >= 0:\n",
        "    reversed_string += original_string[index]\n",
        "    index -= 1\n",
        "print(\"Reversed String:\", reversed_string)\n"
      ],
      "metadata": {
        "colab": {
          "base_uri": "https://localhost:8080/"
        },
        "id": "vFNsO_B5eOK8",
        "outputId": "3bc1b3be-1b71-44c1-cc51-346a78815252"
      },
      "execution_count": 13,
      "outputs": [
        {
          "output_type": "stream",
          "name": "stdout",
          "text": [
            "Enter a string: rishant \n",
            "Reversed String:  tnahsir\n"
          ]
        }
      ]
    },
    {
      "cell_type": "code",
      "source": [
        "# 15.Write a Python program to calculate the factorial of a number provided by the user using a while loop.\n",
        "number = int(input(\"Enter a number: \"))\n",
        "factorial = 1\n",
        "current_number = 1\n",
        "while current_number <= number:\n",
        "    factorial *= current_number\n",
        "    current_number += 1\n",
        "print(f\"The factorial of {number} is: {factorial}\")"
      ],
      "metadata": {
        "colab": {
          "base_uri": "https://localhost:8080/"
        },
        "id": "NhZ_G9bOeZke",
        "outputId": "a1c83db8-31e5-460c-f689-238eedc0ec40"
      },
      "execution_count": 14,
      "outputs": [
        {
          "output_type": "stream",
          "name": "stdout",
          "text": [
            "Enter a number: 92\n",
            "The factorial of 92 is: 12438414054641307255475324325873553077577991715875414356840239582938137710983519518443046123837041347353107486982656753664000000000000000000000\n"
          ]
        }
      ]
    }
  ]
}